{
 "cells": [
  {
   "cell_type": "markdown",
   "metadata": {},
   "source": [
    "### The first part of this notebook is a general understanding of the data distribution"
   ]
  },
  {
   "cell_type": "code",
   "execution_count": 1,
   "metadata": {
    "ExecuteTime": {
     "end_time": "2020-01-03T19:41:40.773539Z",
     "start_time": "2020-01-03T19:41:38.193575Z"
    }
   },
   "outputs": [],
   "source": [
    "import numpy as np\n",
    "import pandas as pd\n",
    "import matplotlib.pyplot as plt\n",
    "import seaborn as sns"
   ]
  },
  {
   "cell_type": "code",
   "execution_count": 2,
   "metadata": {
    "ExecuteTime": {
     "end_time": "2020-01-03T19:44:48.904887Z",
     "start_time": "2020-01-03T19:41:41.817134Z"
    }
   },
   "outputs": [],
   "source": [
    "train = pd.read_csv('E:/Kaggle/data_science_bowl_2019/data/train.csv')"
   ]
  },
  {
   "cell_type": "code",
   "execution_count": null,
   "metadata": {
    "ExecuteTime": {
     "start_time": "2020-01-03T19:45:17.278Z"
    }
   },
   "outputs": [],
   "source": [
    "train.to_pickle(\"train.pkl.gz\", compression='gzip')"
   ]
  },
  {
   "cell_type": "code",
   "execution_count": 5,
   "metadata": {
    "ExecuteTime": {
     "end_time": "2020-01-02T20:42:35.315891Z",
     "start_time": "2020-01-02T20:42:35.280976Z"
    }
   },
   "outputs": [
    {
     "data": {
      "text/html": [
       "<div>\n",
       "<style scoped>\n",
       "    .dataframe tbody tr th:only-of-type {\n",
       "        vertical-align: middle;\n",
       "    }\n",
       "\n",
       "    .dataframe tbody tr th {\n",
       "        vertical-align: top;\n",
       "    }\n",
       "\n",
       "    .dataframe thead th {\n",
       "        text-align: right;\n",
       "    }\n",
       "</style>\n",
       "<table border=\"1\" class=\"dataframe\">\n",
       "  <thead>\n",
       "    <tr style=\"text-align: right;\">\n",
       "      <th></th>\n",
       "      <th>event_id</th>\n",
       "      <th>game_session</th>\n",
       "      <th>timestamp</th>\n",
       "      <th>event_data</th>\n",
       "      <th>installation_id</th>\n",
       "      <th>event_count</th>\n",
       "      <th>event_code</th>\n",
       "      <th>game_time</th>\n",
       "      <th>title</th>\n",
       "      <th>type</th>\n",
       "      <th>world</th>\n",
       "    </tr>\n",
       "  </thead>\n",
       "  <tbody>\n",
       "    <tr>\n",
       "      <th>0</th>\n",
       "      <td>27253bdc</td>\n",
       "      <td>45bb1e1b6b50c07b</td>\n",
       "      <td>2019-09-06T17:53:46.937Z</td>\n",
       "      <td>{\"event_code\": 2000, \"event_count\": 1}</td>\n",
       "      <td>0001e90f</td>\n",
       "      <td>1</td>\n",
       "      <td>2000</td>\n",
       "      <td>0</td>\n",
       "      <td>Welcome to Lost Lagoon!</td>\n",
       "      <td>Clip</td>\n",
       "      <td>NONE</td>\n",
       "    </tr>\n",
       "    <tr>\n",
       "      <th>1</th>\n",
       "      <td>27253bdc</td>\n",
       "      <td>17eeb7f223665f53</td>\n",
       "      <td>2019-09-06T17:54:17.519Z</td>\n",
       "      <td>{\"event_code\": 2000, \"event_count\": 1}</td>\n",
       "      <td>0001e90f</td>\n",
       "      <td>1</td>\n",
       "      <td>2000</td>\n",
       "      <td>0</td>\n",
       "      <td>Magma Peak - Level 1</td>\n",
       "      <td>Clip</td>\n",
       "      <td>MAGMAPEAK</td>\n",
       "    </tr>\n",
       "    <tr>\n",
       "      <th>2</th>\n",
       "      <td>77261ab5</td>\n",
       "      <td>0848ef14a8dc6892</td>\n",
       "      <td>2019-09-06T17:54:56.302Z</td>\n",
       "      <td>{\"version\":\"1.0\",\"event_count\":1,\"game_time\":0...</td>\n",
       "      <td>0001e90f</td>\n",
       "      <td>1</td>\n",
       "      <td>2000</td>\n",
       "      <td>0</td>\n",
       "      <td>Sandcastle Builder (Activity)</td>\n",
       "      <td>Activity</td>\n",
       "      <td>MAGMAPEAK</td>\n",
       "    </tr>\n",
       "    <tr>\n",
       "      <th>3</th>\n",
       "      <td>b2dba42b</td>\n",
       "      <td>0848ef14a8dc6892</td>\n",
       "      <td>2019-09-06T17:54:56.387Z</td>\n",
       "      <td>{\"description\":\"Let's build a sandcastle! Firs...</td>\n",
       "      <td>0001e90f</td>\n",
       "      <td>2</td>\n",
       "      <td>3010</td>\n",
       "      <td>53</td>\n",
       "      <td>Sandcastle Builder (Activity)</td>\n",
       "      <td>Activity</td>\n",
       "      <td>MAGMAPEAK</td>\n",
       "    </tr>\n",
       "    <tr>\n",
       "      <th>4</th>\n",
       "      <td>1bb5fbdb</td>\n",
       "      <td>0848ef14a8dc6892</td>\n",
       "      <td>2019-09-06T17:55:03.253Z</td>\n",
       "      <td>{\"description\":\"Let's build a sandcastle! Firs...</td>\n",
       "      <td>0001e90f</td>\n",
       "      <td>3</td>\n",
       "      <td>3110</td>\n",
       "      <td>6972</td>\n",
       "      <td>Sandcastle Builder (Activity)</td>\n",
       "      <td>Activity</td>\n",
       "      <td>MAGMAPEAK</td>\n",
       "    </tr>\n",
       "    <tr>\n",
       "      <th>5</th>\n",
       "      <td>1325467d</td>\n",
       "      <td>0848ef14a8dc6892</td>\n",
       "      <td>2019-09-06T17:55:06.279Z</td>\n",
       "      <td>{\"coordinates\":{\"x\":583,\"y\":605,\"stage_width\":...</td>\n",
       "      <td>0001e90f</td>\n",
       "      <td>4</td>\n",
       "      <td>4070</td>\n",
       "      <td>9991</td>\n",
       "      <td>Sandcastle Builder (Activity)</td>\n",
       "      <td>Activity</td>\n",
       "      <td>MAGMAPEAK</td>\n",
       "    </tr>\n",
       "    <tr>\n",
       "      <th>6</th>\n",
       "      <td>1325467d</td>\n",
       "      <td>0848ef14a8dc6892</td>\n",
       "      <td>2019-09-06T17:55:06.913Z</td>\n",
       "      <td>{\"coordinates\":{\"x\":601,\"y\":570,\"stage_width\":...</td>\n",
       "      <td>0001e90f</td>\n",
       "      <td>5</td>\n",
       "      <td>4070</td>\n",
       "      <td>10622</td>\n",
       "      <td>Sandcastle Builder (Activity)</td>\n",
       "      <td>Activity</td>\n",
       "      <td>MAGMAPEAK</td>\n",
       "    </tr>\n",
       "    <tr>\n",
       "      <th>7</th>\n",
       "      <td>1325467d</td>\n",
       "      <td>0848ef14a8dc6892</td>\n",
       "      <td>2019-09-06T17:55:07.546Z</td>\n",
       "      <td>{\"coordinates\":{\"x\":250,\"y\":665,\"stage_width\":...</td>\n",
       "      <td>0001e90f</td>\n",
       "      <td>6</td>\n",
       "      <td>4070</td>\n",
       "      <td>11255</td>\n",
       "      <td>Sandcastle Builder (Activity)</td>\n",
       "      <td>Activity</td>\n",
       "      <td>MAGMAPEAK</td>\n",
       "    </tr>\n",
       "    <tr>\n",
       "      <th>8</th>\n",
       "      <td>1325467d</td>\n",
       "      <td>0848ef14a8dc6892</td>\n",
       "      <td>2019-09-06T17:55:07.979Z</td>\n",
       "      <td>{\"coordinates\":{\"x\":279,\"y\":629,\"stage_width\":...</td>\n",
       "      <td>0001e90f</td>\n",
       "      <td>7</td>\n",
       "      <td>4070</td>\n",
       "      <td>11689</td>\n",
       "      <td>Sandcastle Builder (Activity)</td>\n",
       "      <td>Activity</td>\n",
       "      <td>MAGMAPEAK</td>\n",
       "    </tr>\n",
       "    <tr>\n",
       "      <th>9</th>\n",
       "      <td>1325467d</td>\n",
       "      <td>0848ef14a8dc6892</td>\n",
       "      <td>2019-09-06T17:55:08.566Z</td>\n",
       "      <td>{\"coordinates\":{\"x\":839,\"y\":654,\"stage_width\":...</td>\n",
       "      <td>0001e90f</td>\n",
       "      <td>8</td>\n",
       "      <td>4070</td>\n",
       "      <td>12272</td>\n",
       "      <td>Sandcastle Builder (Activity)</td>\n",
       "      <td>Activity</td>\n",
       "      <td>MAGMAPEAK</td>\n",
       "    </tr>\n",
       "  </tbody>\n",
       "</table>\n",
       "</div>"
      ],
      "text/plain": [
       "   event_id      game_session                 timestamp  \\\n",
       "0  27253bdc  45bb1e1b6b50c07b  2019-09-06T17:53:46.937Z   \n",
       "1  27253bdc  17eeb7f223665f53  2019-09-06T17:54:17.519Z   \n",
       "2  77261ab5  0848ef14a8dc6892  2019-09-06T17:54:56.302Z   \n",
       "3  b2dba42b  0848ef14a8dc6892  2019-09-06T17:54:56.387Z   \n",
       "4  1bb5fbdb  0848ef14a8dc6892  2019-09-06T17:55:03.253Z   \n",
       "5  1325467d  0848ef14a8dc6892  2019-09-06T17:55:06.279Z   \n",
       "6  1325467d  0848ef14a8dc6892  2019-09-06T17:55:06.913Z   \n",
       "7  1325467d  0848ef14a8dc6892  2019-09-06T17:55:07.546Z   \n",
       "8  1325467d  0848ef14a8dc6892  2019-09-06T17:55:07.979Z   \n",
       "9  1325467d  0848ef14a8dc6892  2019-09-06T17:55:08.566Z   \n",
       "\n",
       "                                          event_data installation_id  \\\n",
       "0             {\"event_code\": 2000, \"event_count\": 1}        0001e90f   \n",
       "1             {\"event_code\": 2000, \"event_count\": 1}        0001e90f   \n",
       "2  {\"version\":\"1.0\",\"event_count\":1,\"game_time\":0...        0001e90f   \n",
       "3  {\"description\":\"Let's build a sandcastle! Firs...        0001e90f   \n",
       "4  {\"description\":\"Let's build a sandcastle! Firs...        0001e90f   \n",
       "5  {\"coordinates\":{\"x\":583,\"y\":605,\"stage_width\":...        0001e90f   \n",
       "6  {\"coordinates\":{\"x\":601,\"y\":570,\"stage_width\":...        0001e90f   \n",
       "7  {\"coordinates\":{\"x\":250,\"y\":665,\"stage_width\":...        0001e90f   \n",
       "8  {\"coordinates\":{\"x\":279,\"y\":629,\"stage_width\":...        0001e90f   \n",
       "9  {\"coordinates\":{\"x\":839,\"y\":654,\"stage_width\":...        0001e90f   \n",
       "\n",
       "   event_count  event_code  game_time                          title  \\\n",
       "0            1        2000          0        Welcome to Lost Lagoon!   \n",
       "1            1        2000          0           Magma Peak - Level 1   \n",
       "2            1        2000          0  Sandcastle Builder (Activity)   \n",
       "3            2        3010         53  Sandcastle Builder (Activity)   \n",
       "4            3        3110       6972  Sandcastle Builder (Activity)   \n",
       "5            4        4070       9991  Sandcastle Builder (Activity)   \n",
       "6            5        4070      10622  Sandcastle Builder (Activity)   \n",
       "7            6        4070      11255  Sandcastle Builder (Activity)   \n",
       "8            7        4070      11689  Sandcastle Builder (Activity)   \n",
       "9            8        4070      12272  Sandcastle Builder (Activity)   \n",
       "\n",
       "       type      world  \n",
       "0      Clip       NONE  \n",
       "1      Clip  MAGMAPEAK  \n",
       "2  Activity  MAGMAPEAK  \n",
       "3  Activity  MAGMAPEAK  \n",
       "4  Activity  MAGMAPEAK  \n",
       "5  Activity  MAGMAPEAK  \n",
       "6  Activity  MAGMAPEAK  \n",
       "7  Activity  MAGMAPEAK  \n",
       "8  Activity  MAGMAPEAK  \n",
       "9  Activity  MAGMAPEAK  "
      ]
     },
     "execution_count": 5,
     "metadata": {},
     "output_type": "execute_result"
    }
   ],
   "source": [
    "train.head(10)"
   ]
  },
  {
   "cell_type": "code",
   "execution_count": 18,
   "metadata": {
    "ExecuteTime": {
     "end_time": "2020-01-02T21:07:55.315333Z",
     "start_time": "2020-01-02T21:07:55.309353Z"
    }
   },
   "outputs": [
    {
     "data": {
      "text/plain": [
       "11341042"
      ]
     },
     "execution_count": 18,
     "metadata": {},
     "output_type": "execute_result"
    }
   ],
   "source": [
    "len(train)"
   ]
  },
  {
   "cell_type": "code",
   "execution_count": 20,
   "metadata": {
    "ExecuteTime": {
     "end_time": "2020-01-02T21:11:34.893294Z",
     "start_time": "2020-01-02T21:11:34.889307Z"
    }
   },
   "outputs": [
    {
     "data": {
      "text/plain": [
       "17690"
      ]
     },
     "execution_count": 20,
     "metadata": {},
     "output_type": "execute_result"
    }
   ],
   "source": [
    "len(train_label)"
   ]
  },
  {
   "cell_type": "code",
   "execution_count": 4,
   "metadata": {
    "ExecuteTime": {
     "end_time": "2020-01-02T20:42:21.341100Z",
     "start_time": "2020-01-02T20:42:20.853840Z"
    }
   },
   "outputs": [],
   "source": [
    "train_label = pd.read_csv('E:/Kaggle/data_science_bowl_2019/data/train_labels.csv')"
   ]
  },
  {
   "cell_type": "code",
   "execution_count": 6,
   "metadata": {
    "ExecuteTime": {
     "end_time": "2020-01-02T20:42:44.271055Z",
     "start_time": "2020-01-02T20:42:44.254136Z"
    }
   },
   "outputs": [
    {
     "data": {
      "text/html": [
       "<div>\n",
       "<style scoped>\n",
       "    .dataframe tbody tr th:only-of-type {\n",
       "        vertical-align: middle;\n",
       "    }\n",
       "\n",
       "    .dataframe tbody tr th {\n",
       "        vertical-align: top;\n",
       "    }\n",
       "\n",
       "    .dataframe thead th {\n",
       "        text-align: right;\n",
       "    }\n",
       "</style>\n",
       "<table border=\"1\" class=\"dataframe\">\n",
       "  <thead>\n",
       "    <tr style=\"text-align: right;\">\n",
       "      <th></th>\n",
       "      <th>game_session</th>\n",
       "      <th>installation_id</th>\n",
       "      <th>title</th>\n",
       "      <th>num_correct</th>\n",
       "      <th>num_incorrect</th>\n",
       "      <th>accuracy</th>\n",
       "      <th>accuracy_group</th>\n",
       "    </tr>\n",
       "  </thead>\n",
       "  <tbody>\n",
       "    <tr>\n",
       "      <th>0</th>\n",
       "      <td>6bdf9623adc94d89</td>\n",
       "      <td>0006a69f</td>\n",
       "      <td>Mushroom Sorter (Assessment)</td>\n",
       "      <td>1</td>\n",
       "      <td>0</td>\n",
       "      <td>1.0</td>\n",
       "      <td>3</td>\n",
       "    </tr>\n",
       "    <tr>\n",
       "      <th>1</th>\n",
       "      <td>77b8ee947eb84b4e</td>\n",
       "      <td>0006a69f</td>\n",
       "      <td>Bird Measurer (Assessment)</td>\n",
       "      <td>0</td>\n",
       "      <td>11</td>\n",
       "      <td>0.0</td>\n",
       "      <td>0</td>\n",
       "    </tr>\n",
       "    <tr>\n",
       "      <th>2</th>\n",
       "      <td>901acc108f55a5a1</td>\n",
       "      <td>0006a69f</td>\n",
       "      <td>Mushroom Sorter (Assessment)</td>\n",
       "      <td>1</td>\n",
       "      <td>0</td>\n",
       "      <td>1.0</td>\n",
       "      <td>3</td>\n",
       "    </tr>\n",
       "    <tr>\n",
       "      <th>3</th>\n",
       "      <td>9501794defd84e4d</td>\n",
       "      <td>0006a69f</td>\n",
       "      <td>Mushroom Sorter (Assessment)</td>\n",
       "      <td>1</td>\n",
       "      <td>1</td>\n",
       "      <td>0.5</td>\n",
       "      <td>2</td>\n",
       "    </tr>\n",
       "    <tr>\n",
       "      <th>4</th>\n",
       "      <td>a9ef3ecb3d1acc6a</td>\n",
       "      <td>0006a69f</td>\n",
       "      <td>Bird Measurer (Assessment)</td>\n",
       "      <td>1</td>\n",
       "      <td>0</td>\n",
       "      <td>1.0</td>\n",
       "      <td>3</td>\n",
       "    </tr>\n",
       "    <tr>\n",
       "      <th>5</th>\n",
       "      <td>197a373a77101924</td>\n",
       "      <td>0006c192</td>\n",
       "      <td>Cauldron Filler (Assessment)</td>\n",
       "      <td>1</td>\n",
       "      <td>0</td>\n",
       "      <td>1.0</td>\n",
       "      <td>3</td>\n",
       "    </tr>\n",
       "    <tr>\n",
       "      <th>6</th>\n",
       "      <td>957406a905d59afd</td>\n",
       "      <td>0006c192</td>\n",
       "      <td>Bird Measurer (Assessment)</td>\n",
       "      <td>1</td>\n",
       "      <td>1</td>\n",
       "      <td>0.5</td>\n",
       "      <td>2</td>\n",
       "    </tr>\n",
       "    <tr>\n",
       "      <th>7</th>\n",
       "      <td>b2297d292892745a</td>\n",
       "      <td>0006c192</td>\n",
       "      <td>Mushroom Sorter (Assessment)</td>\n",
       "      <td>0</td>\n",
       "      <td>4</td>\n",
       "      <td>0.0</td>\n",
       "      <td>0</td>\n",
       "    </tr>\n",
       "    <tr>\n",
       "      <th>8</th>\n",
       "      <td>ae691ec5ad5652cf</td>\n",
       "      <td>00129856</td>\n",
       "      <td>Bird Measurer (Assessment)</td>\n",
       "      <td>1</td>\n",
       "      <td>0</td>\n",
       "      <td>1.0</td>\n",
       "      <td>3</td>\n",
       "    </tr>\n",
       "    <tr>\n",
       "      <th>9</th>\n",
       "      <td>7b536271e99518f0</td>\n",
       "      <td>001d0ed0</td>\n",
       "      <td>Bird Measurer (Assessment)</td>\n",
       "      <td>0</td>\n",
       "      <td>5</td>\n",
       "      <td>0.0</td>\n",
       "      <td>0</td>\n",
       "    </tr>\n",
       "  </tbody>\n",
       "</table>\n",
       "</div>"
      ],
      "text/plain": [
       "       game_session installation_id                         title  \\\n",
       "0  6bdf9623adc94d89        0006a69f  Mushroom Sorter (Assessment)   \n",
       "1  77b8ee947eb84b4e        0006a69f    Bird Measurer (Assessment)   \n",
       "2  901acc108f55a5a1        0006a69f  Mushroom Sorter (Assessment)   \n",
       "3  9501794defd84e4d        0006a69f  Mushroom Sorter (Assessment)   \n",
       "4  a9ef3ecb3d1acc6a        0006a69f    Bird Measurer (Assessment)   \n",
       "5  197a373a77101924        0006c192  Cauldron Filler (Assessment)   \n",
       "6  957406a905d59afd        0006c192    Bird Measurer (Assessment)   \n",
       "7  b2297d292892745a        0006c192  Mushroom Sorter (Assessment)   \n",
       "8  ae691ec5ad5652cf        00129856    Bird Measurer (Assessment)   \n",
       "9  7b536271e99518f0        001d0ed0    Bird Measurer (Assessment)   \n",
       "\n",
       "   num_correct  num_incorrect  accuracy  accuracy_group  \n",
       "0            1              0       1.0               3  \n",
       "1            0             11       0.0               0  \n",
       "2            1              0       1.0               3  \n",
       "3            1              1       0.5               2  \n",
       "4            1              0       1.0               3  \n",
       "5            1              0       1.0               3  \n",
       "6            1              1       0.5               2  \n",
       "7            0              4       0.0               0  \n",
       "8            1              0       1.0               3  \n",
       "9            0              5       0.0               0  "
      ]
     },
     "execution_count": 6,
     "metadata": {},
     "output_type": "execute_result"
    }
   ],
   "source": [
    "train_label.head(10)"
   ]
  },
  {
   "cell_type": "code",
   "execution_count": 7,
   "metadata": {
    "ExecuteTime": {
     "end_time": "2020-01-02T20:48:06.886265Z",
     "start_time": "2020-01-02T20:47:52.590558Z"
    }
   },
   "outputs": [],
   "source": [
    "test = pd.read_csv('E:/Kaggle/data_science_bowl_2019/data/test.csv')"
   ]
  },
  {
   "cell_type": "code",
   "execution_count": 8,
   "metadata": {
    "ExecuteTime": {
     "end_time": "2020-01-02T20:48:59.647270Z",
     "start_time": "2020-01-02T20:48:59.534801Z"
    }
   },
   "outputs": [],
   "source": [
    "specs = pd.read_csv('E:/Kaggle/data_science_bowl_2019/data/specs.csv')"
   ]
  },
  {
   "cell_type": "code",
   "execution_count": 15,
   "metadata": {
    "ExecuteTime": {
     "end_time": "2020-01-02T21:03:51.862662Z",
     "start_time": "2020-01-02T21:03:51.297136Z"
    }
   },
   "outputs": [
    {
     "data": {
      "text/html": [
       "<div>\n",
       "<style scoped>\n",
       "    .dataframe tbody tr th:only-of-type {\n",
       "        vertical-align: middle;\n",
       "    }\n",
       "\n",
       "    .dataframe tbody tr th {\n",
       "        vertical-align: top;\n",
       "    }\n",
       "\n",
       "    .dataframe thead th {\n",
       "        text-align: right;\n",
       "    }\n",
       "</style>\n",
       "<table border=\"1\" class=\"dataframe\">\n",
       "  <thead>\n",
       "    <tr style=\"text-align: right;\">\n",
       "      <th></th>\n",
       "      <th>event_id</th>\n",
       "      <th>info</th>\n",
       "      <th>args</th>\n",
       "    </tr>\n",
       "  </thead>\n",
       "  <tbody>\n",
       "    <tr>\n",
       "      <th>0</th>\n",
       "      <td>2b9272f4</td>\n",
       "      <td>The end of system-initiated feedback (Correct)...</td>\n",
       "      <td>[{\"name\":\"game_time\",\"type\":\"int\",\"info\":\"mill...</td>\n",
       "    </tr>\n",
       "    <tr>\n",
       "      <th>1</th>\n",
       "      <td>df4fe8b6</td>\n",
       "      <td>The end of system-initiated feedback (Incorrec...</td>\n",
       "      <td>[{\"name\":\"game_time\",\"type\":\"int\",\"info\":\"mill...</td>\n",
       "    </tr>\n",
       "    <tr>\n",
       "      <th>2</th>\n",
       "      <td>3babcb9b</td>\n",
       "      <td>The end of system-initiated instruction event ...</td>\n",
       "      <td>[{\"name\":\"game_time\",\"type\":\"int\",\"info\":\"mill...</td>\n",
       "    </tr>\n",
       "    <tr>\n",
       "      <th>3</th>\n",
       "      <td>7f0836bf</td>\n",
       "      <td>The end of system-initiated instruction event ...</td>\n",
       "      <td>[{\"name\":\"game_time\",\"type\":\"int\",\"info\":\"mill...</td>\n",
       "    </tr>\n",
       "    <tr>\n",
       "      <th>4</th>\n",
       "      <td>ab3136ba</td>\n",
       "      <td>The end of system-initiated instruction event ...</td>\n",
       "      <td>[{\"name\":\"game_time\",\"type\":\"int\",\"info\":\"mill...</td>\n",
       "    </tr>\n",
       "    <tr>\n",
       "      <th>5</th>\n",
       "      <td>bbfe0445</td>\n",
       "      <td>The end of system-initiated instruction event ...</td>\n",
       "      <td>[{\"name\":\"game_time\",\"type\":\"int\",\"info\":\"mill...</td>\n",
       "    </tr>\n",
       "    <tr>\n",
       "      <th>6</th>\n",
       "      <td>bc8f2793</td>\n",
       "      <td>This event occurs when the player drops a weig...</td>\n",
       "      <td>[{\"name\":\"game_time\",\"type\":\"int\",\"info\":\"mill...</td>\n",
       "    </tr>\n",
       "    <tr>\n",
       "      <th>7</th>\n",
       "      <td>33505eae</td>\n",
       "      <td>The system-initiated instruction event occurs ...</td>\n",
       "      <td>[{\"name\":\"game_time\",\"type\":\"int\",\"info\":\"mill...</td>\n",
       "    </tr>\n",
       "    <tr>\n",
       "      <th>8</th>\n",
       "      <td>cdd22e43</td>\n",
       "      <td>This event occurs when the player drags a chic...</td>\n",
       "      <td>[{\"name\":\"game_time\",\"type\":\"int\",\"info\":\"mill...</td>\n",
       "    </tr>\n",
       "    <tr>\n",
       "      <th>9</th>\n",
       "      <td>d88e8f25</td>\n",
       "      <td>The system-initiated feedback (Incorrect) even...</td>\n",
       "      <td>[{\"name\":\"game_time\",\"type\":\"int\",\"info\":\"mill...</td>\n",
       "    </tr>\n",
       "  </tbody>\n",
       "</table>\n",
       "</div>"
      ],
      "text/plain": [
       "   event_id                                               info  \\\n",
       "0  2b9272f4  The end of system-initiated feedback (Correct)...   \n",
       "1  df4fe8b6  The end of system-initiated feedback (Incorrec...   \n",
       "2  3babcb9b  The end of system-initiated instruction event ...   \n",
       "3  7f0836bf  The end of system-initiated instruction event ...   \n",
       "4  ab3136ba  The end of system-initiated instruction event ...   \n",
       "5  bbfe0445  The end of system-initiated instruction event ...   \n",
       "6  bc8f2793  This event occurs when the player drops a weig...   \n",
       "7  33505eae  The system-initiated instruction event occurs ...   \n",
       "8  cdd22e43  This event occurs when the player drags a chic...   \n",
       "9  d88e8f25  The system-initiated feedback (Incorrect) even...   \n",
       "\n",
       "                                                args  \n",
       "0  [{\"name\":\"game_time\",\"type\":\"int\",\"info\":\"mill...  \n",
       "1  [{\"name\":\"game_time\",\"type\":\"int\",\"info\":\"mill...  \n",
       "2  [{\"name\":\"game_time\",\"type\":\"int\",\"info\":\"mill...  \n",
       "3  [{\"name\":\"game_time\",\"type\":\"int\",\"info\":\"mill...  \n",
       "4  [{\"name\":\"game_time\",\"type\":\"int\",\"info\":\"mill...  \n",
       "5  [{\"name\":\"game_time\",\"type\":\"int\",\"info\":\"mill...  \n",
       "6  [{\"name\":\"game_time\",\"type\":\"int\",\"info\":\"mill...  \n",
       "7  [{\"name\":\"game_time\",\"type\":\"int\",\"info\":\"mill...  \n",
       "8  [{\"name\":\"game_time\",\"type\":\"int\",\"info\":\"mill...  \n",
       "9  [{\"name\":\"game_time\",\"type\":\"int\",\"info\":\"mill...  "
      ]
     },
     "execution_count": 15,
     "metadata": {},
     "output_type": "execute_result"
    }
   ],
   "source": [
    "specs.head(10)"
   ]
  },
  {
   "cell_type": "markdown",
   "metadata": {},
   "source": [
    "Find if there exists missing values in train, test, train_label, spec"
   ]
  },
  {
   "cell_type": "code",
   "execution_count": 11,
   "metadata": {
    "ExecuteTime": {
     "end_time": "2020-01-02T20:58:39.033262Z",
     "start_time": "2020-01-02T20:57:04.546291Z"
    }
   },
   "outputs": [
    {
     "data": {
      "text/plain": [
       "event_id           False\n",
       "game_session       False\n",
       "timestamp          False\n",
       "event_data         False\n",
       "installation_id    False\n",
       "event_count        False\n",
       "event_code         False\n",
       "game_time          False\n",
       "title              False\n",
       "type               False\n",
       "world              False\n",
       "dtype: bool"
      ]
     },
     "execution_count": 11,
     "metadata": {},
     "output_type": "execute_result"
    }
   ],
   "source": [
    "train.isnull().any()"
   ]
  },
  {
   "cell_type": "code",
   "execution_count": 12,
   "metadata": {
    "ExecuteTime": {
     "end_time": "2020-01-02T20:59:27.783144Z",
     "start_time": "2020-01-02T20:59:10.883094Z"
    }
   },
   "outputs": [
    {
     "data": {
      "text/plain": [
       "event_id           False\n",
       "game_session       False\n",
       "timestamp          False\n",
       "event_data         False\n",
       "installation_id    False\n",
       "event_count        False\n",
       "event_code         False\n",
       "game_time          False\n",
       "title              False\n",
       "type               False\n",
       "world              False\n",
       "dtype: bool"
      ]
     },
     "execution_count": 12,
     "metadata": {},
     "output_type": "execute_result"
    }
   ],
   "source": [
    "test.isnull().any()"
   ]
  },
  {
   "cell_type": "code",
   "execution_count": 13,
   "metadata": {
    "ExecuteTime": {
     "end_time": "2020-01-02T21:00:38.775204Z",
     "start_time": "2020-01-02T21:00:38.398209Z"
    }
   },
   "outputs": [
    {
     "data": {
      "text/plain": [
       "game_session       False\n",
       "installation_id    False\n",
       "title              False\n",
       "num_correct        False\n",
       "num_incorrect      False\n",
       "accuracy           False\n",
       "accuracy_group     False\n",
       "dtype: bool"
      ]
     },
     "execution_count": 13,
     "metadata": {},
     "output_type": "execute_result"
    }
   ],
   "source": [
    "train_label.isnull().any()"
   ]
  },
  {
   "cell_type": "code",
   "execution_count": 14,
   "metadata": {
    "ExecuteTime": {
     "end_time": "2020-01-02T21:03:25.495594Z",
     "start_time": "2020-01-02T21:03:25.317714Z"
    }
   },
   "outputs": [
    {
     "data": {
      "text/plain": [
       "event_id    False\n",
       "info        False\n",
       "args        False\n",
       "dtype: bool"
      ]
     },
     "execution_count": 14,
     "metadata": {},
     "output_type": "execute_result"
    }
   ],
   "source": [
    "specs.isnull().any()"
   ]
  },
  {
   "cell_type": "code",
   "execution_count": 16,
   "metadata": {
    "ExecuteTime": {
     "end_time": "2020-01-02T21:04:38.019749Z",
     "start_time": "2020-01-02T21:04:37.935473Z"
    }
   },
   "outputs": [
    {
     "name": "stdout",
     "output_type": "stream",
     "text": [
      "<class 'pandas.core.frame.DataFrame'>\n",
      "RangeIndex: 11341042 entries, 0 to 11341041\n",
      "Data columns (total 11 columns):\n",
      "event_id           object\n",
      "game_session       object\n",
      "timestamp          object\n",
      "event_data         object\n",
      "installation_id    object\n",
      "event_count        int64\n",
      "event_code         int64\n",
      "game_time          int64\n",
      "title              object\n",
      "type               object\n",
      "world              object\n",
      "dtypes: int64(3), object(8)\n",
      "memory usage: 951.8+ MB\n"
     ]
    }
   ],
   "source": [
    "train.info()"
   ]
  },
  {
   "cell_type": "markdown",
   "metadata": {},
   "source": [
    "Since the features are not too many, I can analyze them one by one"
   ]
  },
  {
   "cell_type": "code",
   "execution_count": 17,
   "metadata": {
    "ExecuteTime": {
     "end_time": "2020-01-02T21:06:45.898598Z",
     "start_time": "2020-01-02T21:06:42.405531Z"
    }
   },
   "outputs": [
    {
     "data": {
      "text/plain": [
       "1325467d    274673\n",
       "bb3e370b    256179\n",
       "cf82af56    224694\n",
       "5e812b27    206129\n",
       "cfbd47c8    199734\n",
       "90efca10    185211\n",
       "27253bdc    183676\n",
       "76babcde    182235\n",
       "b2dba42b    169921\n",
       "1bb5fbdb    168344\n",
       "884228c8    161890\n",
       "6c517a88    160593\n",
       "7372e1a5    158917\n",
       "56bcd38d    151200\n",
       "0330ab6a    147592\n",
       "2230fab4    146249\n",
       "0a08139c    145510\n",
       "71fe8f75    144797\n",
       "4ef8cdd3    131972\n",
       "7dfe6d8a    128368\n",
       "67439901    127457\n",
       "5c3d2b2f    126738\n",
       "df4940d3    126255\n",
       "587b5989    118442\n",
       "5e3ea25a    114708\n",
       "f71c4741    113304\n",
       "f7e47413    111442\n",
       "02a42007    109098\n",
       "5154fc30    108199\n",
       "9ee1c98c    107498\n",
       "             ...  \n",
       "6aeafed4       219\n",
       "5f5b2617       173\n",
       "eb2c19cd       155\n",
       "05ad839b       132\n",
       "4e5fc6f5       120\n",
       "16667cc5       102\n",
       "26a5a3dd        97\n",
       "30df3273        72\n",
       "bfc77bd6        67\n",
       "7fd1ac25        43\n",
       "3a4be871        33\n",
       "13f56524        26\n",
       "01ca3a3c        25\n",
       "2ec694de        24\n",
       "29a42aea        14\n",
       "9554a50b        13\n",
       "ecc6157f        12\n",
       "6077cc36        11\n",
       "e4d32835        10\n",
       "ab4ec3a4         5\n",
       "0ce40006         4\n",
       "611485c5         3\n",
       "a8cc6fec         1\n",
       "4074bac2         1\n",
       "119b5b02         1\n",
       "1b54d27f         1\n",
       "5dc079d8         1\n",
       "17ca3959         1\n",
       "003cd2ee         1\n",
       "dcb1663e         1\n",
       "Name: event_id, Length: 384, dtype: int64"
      ]
     },
     "execution_count": 17,
     "metadata": {},
     "output_type": "execute_result"
    }
   ],
   "source": [
    "train['event_id'].value_counts()"
   ]
  },
  {
   "cell_type": "code",
   "execution_count": 19,
   "metadata": {
    "ExecuteTime": {
     "end_time": "2020-01-02T21:09:47.095260Z",
     "start_time": "2020-01-02T21:09:44.514549Z"
    }
   },
   "outputs": [
    {
     "data": {
      "text/plain": [
       "6e6e697f2e593de1    3368\n",
       "bb1f09ec062b6660    3182\n",
       "33495c8f126e2ef9    2505\n",
       "34c82b23355e378c    2456\n",
       "8fe0ab3c3e448a04    2398\n",
       "6e98fc08f99fd7c2    2375\n",
       "1520f3d49669573d    2250\n",
       "39d2cbe5ce1896ea    2177\n",
       "7f27efcf7b2b7798    2073\n",
       "1f59d4f65ccbcb74    2060\n",
       "7931393f7749396a    1880\n",
       "dadec178b31d95fb    1820\n",
       "3e81b1601e7da134    1770\n",
       "98f54b0863647562    1720\n",
       "d72685dfdc0a6505    1690\n",
       "23fd0b7bdeb2b4e5    1651\n",
       "bf0a22962a4fe98d    1645\n",
       "6adb3d0e2d9f126d    1635\n",
       "fe39cd76a3bf5a45    1630\n",
       "ca8e63e3624150bd    1585\n",
       "2a3f8825733241e9    1551\n",
       "f8f413b9e1caa0f1    1525\n",
       "f58fcf37dd4dbee7    1517\n",
       "51aa809764424796    1515\n",
       "48e054ec37bb42a7    1503\n",
       "a1e85794f6db9871    1480\n",
       "4a9c625775b13b9d    1475\n",
       "0d14458017eadb82    1460\n",
       "38d7d39fc6947c5e    1460\n",
       "e68fed5dc9abeaf2    1452\n",
       "                    ... \n",
       "51f210304b9a00cc       1\n",
       "f9c92891c77e8c76       1\n",
       "3f4adf2946b6296e       1\n",
       "1827f351fdeabb75       1\n",
       "46dddce57e590bcf       1\n",
       "55988db95a85c7d4       1\n",
       "89a0297e9f64e143       1\n",
       "4627db5ab5883608       1\n",
       "fc494ba2aad7df6a       1\n",
       "5ea537686d12c5bf       1\n",
       "cb24ecf7ce2e7b8a       1\n",
       "7e12932b2d2c9d3b       1\n",
       "93ff8c30c16cb3df       1\n",
       "eefbcc11b710762a       1\n",
       "a22a200aa3426790       1\n",
       "f4bd314c85688957       1\n",
       "8804964a880b8574       1\n",
       "55b0ad54d0ae66a6       1\n",
       "5717f205313d2ed7       1\n",
       "9936da96daf1a416       1\n",
       "08bd3f9e885b1a1f       1\n",
       "4e2a447669cb9c00       1\n",
       "16e3750d979145fa       1\n",
       "60d4a602f5afbd22       1\n",
       "707a0d7cf14f8412       1\n",
       "b3e13832fc58865f       1\n",
       "654565785ea6ad0e       1\n",
       "0718ceb0053ac588       1\n",
       "57e44dbd67841a3e       1\n",
       "2faec099c0a3a4fa       1\n",
       "Name: game_session, Length: 303319, dtype: int64"
      ]
     },
     "execution_count": 19,
     "metadata": {},
     "output_type": "execute_result"
    }
   ],
   "source": [
    "train['game_session'].value_counts()"
   ]
  },
  {
   "cell_type": "code",
   "execution_count": 21,
   "metadata": {
    "ExecuteTime": {
     "end_time": "2020-01-02T21:46:01.236880Z",
     "start_time": "2020-01-02T21:45:41.117969Z"
    }
   },
   "outputs": [
    {
     "data": {
      "text/plain": [
       "f1c21eda    58988\n",
       "4d7d3d97    32749\n",
       "d25338cb    31826\n",
       "cff5a334    30918\n",
       "c9ea32e9    30402\n",
       "9f399a3a    26455\n",
       "96979008    25404\n",
       "063e3e02    24988\n",
       "2d6d1ecd    24356\n",
       "4bbf5c31    24098\n",
       "1f71eb61    23225\n",
       "772c8f0d    23087\n",
       "cf2a3a60    22280\n",
       "416398f8    21662\n",
       "6cb38ea0    20658\n",
       "eca4e454    20306\n",
       "2ffb27f9    19301\n",
       "c1b7df3e    18514\n",
       "0d5a1a5e    17754\n",
       "53e3a945    17593\n",
       "4b02b17f    17501\n",
       "353622fd    16834\n",
       "343f56f4    16657\n",
       "698c0f0a    16407\n",
       "f605e2d5    16242\n",
       "a31288d6    16211\n",
       "7432d976    16154\n",
       "d09c44d1    16039\n",
       "d6425070    15915\n",
       "73aec158    15717\n",
       "            ...  \n",
       "3534a7b1        1\n",
       "416fe725        1\n",
       "d8267ef0        1\n",
       "bb6bbce5        1\n",
       "c0b8598a        1\n",
       "db9f9369        1\n",
       "a9a2de29        1\n",
       "5459e7b6        1\n",
       "7a47dff7        1\n",
       "7124f0ed        1\n",
       "53f8874e        1\n",
       "7c11d226        1\n",
       "0e8a7327        1\n",
       "eed658ab        1\n",
       "430f40f0        1\n",
       "72877d8d        1\n",
       "8f858f15        1\n",
       "98711876        1\n",
       "818c343f        1\n",
       "cc5f13ad        1\n",
       "b3d29619        1\n",
       "3c6eaee5        1\n",
       "52f27f9f        1\n",
       "6a87780a        1\n",
       "9e2e83af        1\n",
       "9f853d65        1\n",
       "79037ab7        1\n",
       "0c8918c5        1\n",
       "630cf8d5        1\n",
       "ddd65e10        1\n",
       "Name: installation_id, Length: 17000, dtype: int64"
      ]
     },
     "execution_count": 21,
     "metadata": {},
     "output_type": "execute_result"
    }
   ],
   "source": [
    "train['installation_id'].value_counts()"
   ]
  }
 ],
 "metadata": {
  "kernelspec": {
   "display_name": "Python 3",
   "language": "python",
   "name": "python3"
  },
  "language_info": {
   "codemirror_mode": {
    "name": "ipython",
    "version": 3
   },
   "file_extension": ".py",
   "mimetype": "text/x-python",
   "name": "python",
   "nbconvert_exporter": "python",
   "pygments_lexer": "ipython3",
   "version": "3.7.1"
  },
  "toc": {
   "base_numbering": 1,
   "nav_menu": {},
   "number_sections": true,
   "sideBar": true,
   "skip_h1_title": false,
   "title_cell": "Table of Contents",
   "title_sidebar": "Contents",
   "toc_cell": false,
   "toc_position": {},
   "toc_section_display": true,
   "toc_window_display": false
  },
  "varInspector": {
   "cols": {
    "lenName": 16,
    "lenType": 16,
    "lenVar": 40
   },
   "kernels_config": {
    "python": {
     "delete_cmd_postfix": "",
     "delete_cmd_prefix": "del ",
     "library": "var_list.py",
     "varRefreshCmd": "print(var_dic_list())"
    },
    "r": {
     "delete_cmd_postfix": ") ",
     "delete_cmd_prefix": "rm(",
     "library": "var_list.r",
     "varRefreshCmd": "cat(var_dic_list()) "
    }
   },
   "types_to_exclude": [
    "module",
    "function",
    "builtin_function_or_method",
    "instance",
    "_Feature"
   ],
   "window_display": false
  }
 },
 "nbformat": 4,
 "nbformat_minor": 2
}
